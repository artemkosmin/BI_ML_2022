{
 "cells": [
  {
   "cell_type": "markdown",
   "id": "e0d1a937",
   "metadata": {},
   "source": [
    "### DREAM_TEAM\n",
    "* Вера Емельяненко\n",
    "* Марк Зорин\n",
    "* Александра Горбонос\n",
    "* Артем Косьмин"
   ]
  },
  {
   "cell_type": "code",
   "execution_count": 9,
   "id": "b084d51a-694e-4cc8-99cb-f2e8cc62269d",
   "metadata": {},
   "outputs": [],
   "source": [
    "import pandas as pd\n",
    "from sklearn.tree import DecisionTreeClassifier\n",
    "from sklearn.model_selection import train_test_split\n",
    "from sklearn.metrics import accuracy_score\n",
    "from sklearn.metrics import f1_score"
   ]
  },
  {
   "cell_type": "markdown",
   "id": "ab8e95f5-5349-423d-8c28-e80f50a61ce2",
   "metadata": {},
   "source": [
    "Будем учиться классифицировать жанры музыки. В отличие от проекта, который вас ждет, здесь мы будем работать не с сырыми данными (аудиодорожками), а уже в осмысленными признаками (правда, не все из них имеют понятные названия). Сами данные можно найти [здесь](https://www.kaggle.com/purumalgi/music-genre-classification). Будем использовать файл `train.csv`. Нашей задачей будет предсказание переменной `Class` (жанр песни) при помощи деревьев решений. Можно попробовать также другие методы классификации, которые мы прошли, и сравнить результаты. При обучении всех моделей не забывайте про разделение на тренировку и тест (или кросс валидацию [ссылка](https://www.youtube.com/watch?v=fSytzGwwBVw))."
   ]
  },
  {
   "cell_type": "markdown",
   "id": "04e0c9f5-2043-4ed7-92e4-e53677b60df8",
   "metadata": {},
   "source": [
    "### Задание 1. EDA (10 баллов)\n",
    "\n",
    "Как обычно, начнем с того, что посмотрим на наши данные: типы переменных, пропущенные значения, баланс классов и все такое. Ваш ход:"
   ]
  },
  {
   "cell_type": "code",
   "execution_count": 10,
   "id": "1ab19c5c-4a2b-4388-8063-ec56e415408a",
   "metadata": {},
   "outputs": [
    {
     "data": {
      "text/html": [
       "<div>\n",
       "<style scoped>\n",
       "    .dataframe tbody tr th:only-of-type {\n",
       "        vertical-align: middle;\n",
       "    }\n",
       "\n",
       "    .dataframe tbody tr th {\n",
       "        vertical-align: top;\n",
       "    }\n",
       "\n",
       "    .dataframe thead th {\n",
       "        text-align: right;\n",
       "    }\n",
       "</style>\n",
       "<table border=\"1\" class=\"dataframe\">\n",
       "  <thead>\n",
       "    <tr style=\"text-align: right;\">\n",
       "      <th></th>\n",
       "      <th>Artist Name</th>\n",
       "      <th>Track Name</th>\n",
       "      <th>Popularity</th>\n",
       "      <th>danceability</th>\n",
       "      <th>energy</th>\n",
       "      <th>key</th>\n",
       "      <th>loudness</th>\n",
       "      <th>mode</th>\n",
       "      <th>speechiness</th>\n",
       "      <th>acousticness</th>\n",
       "      <th>instrumentalness</th>\n",
       "      <th>liveness</th>\n",
       "      <th>valence</th>\n",
       "      <th>tempo</th>\n",
       "      <th>duration_in min/ms</th>\n",
       "      <th>time_signature</th>\n",
       "      <th>Class</th>\n",
       "    </tr>\n",
       "  </thead>\n",
       "  <tbody>\n",
       "    <tr>\n",
       "      <th>0</th>\n",
       "      <td>Bruno Mars</td>\n",
       "      <td>That's What I Like (feat. Gucci Mane)</td>\n",
       "      <td>60.0</td>\n",
       "      <td>0.854</td>\n",
       "      <td>0.564</td>\n",
       "      <td>1.0</td>\n",
       "      <td>-4.964</td>\n",
       "      <td>1</td>\n",
       "      <td>0.0485</td>\n",
       "      <td>0.017100</td>\n",
       "      <td>NaN</td>\n",
       "      <td>0.0849</td>\n",
       "      <td>0.8990</td>\n",
       "      <td>134.071</td>\n",
       "      <td>234596.0</td>\n",
       "      <td>4</td>\n",
       "      <td>5</td>\n",
       "    </tr>\n",
       "    <tr>\n",
       "      <th>1</th>\n",
       "      <td>Boston</td>\n",
       "      <td>Hitch a Ride</td>\n",
       "      <td>54.0</td>\n",
       "      <td>0.382</td>\n",
       "      <td>0.814</td>\n",
       "      <td>3.0</td>\n",
       "      <td>-7.230</td>\n",
       "      <td>1</td>\n",
       "      <td>0.0406</td>\n",
       "      <td>0.001100</td>\n",
       "      <td>0.004010</td>\n",
       "      <td>0.1010</td>\n",
       "      <td>0.5690</td>\n",
       "      <td>116.454</td>\n",
       "      <td>251733.0</td>\n",
       "      <td>4</td>\n",
       "      <td>10</td>\n",
       "    </tr>\n",
       "    <tr>\n",
       "      <th>2</th>\n",
       "      <td>The Raincoats</td>\n",
       "      <td>No Side to Fall In</td>\n",
       "      <td>35.0</td>\n",
       "      <td>0.434</td>\n",
       "      <td>0.614</td>\n",
       "      <td>6.0</td>\n",
       "      <td>-8.334</td>\n",
       "      <td>1</td>\n",
       "      <td>0.0525</td>\n",
       "      <td>0.486000</td>\n",
       "      <td>0.000196</td>\n",
       "      <td>0.3940</td>\n",
       "      <td>0.7870</td>\n",
       "      <td>147.681</td>\n",
       "      <td>109667.0</td>\n",
       "      <td>4</td>\n",
       "      <td>6</td>\n",
       "    </tr>\n",
       "    <tr>\n",
       "      <th>3</th>\n",
       "      <td>Deno</td>\n",
       "      <td>Lingo (feat. J.I &amp; Chunkz)</td>\n",
       "      <td>66.0</td>\n",
       "      <td>0.853</td>\n",
       "      <td>0.597</td>\n",
       "      <td>10.0</td>\n",
       "      <td>-6.528</td>\n",
       "      <td>0</td>\n",
       "      <td>0.0555</td>\n",
       "      <td>0.021200</td>\n",
       "      <td>NaN</td>\n",
       "      <td>0.1220</td>\n",
       "      <td>0.5690</td>\n",
       "      <td>107.033</td>\n",
       "      <td>173968.0</td>\n",
       "      <td>4</td>\n",
       "      <td>5</td>\n",
       "    </tr>\n",
       "    <tr>\n",
       "      <th>4</th>\n",
       "      <td>Red Hot Chili Peppers</td>\n",
       "      <td>Nobody Weird Like Me - Remastered</td>\n",
       "      <td>53.0</td>\n",
       "      <td>0.167</td>\n",
       "      <td>0.975</td>\n",
       "      <td>2.0</td>\n",
       "      <td>-4.279</td>\n",
       "      <td>1</td>\n",
       "      <td>0.2160</td>\n",
       "      <td>0.000169</td>\n",
       "      <td>0.016100</td>\n",
       "      <td>0.1720</td>\n",
       "      <td>0.0918</td>\n",
       "      <td>199.060</td>\n",
       "      <td>229960.0</td>\n",
       "      <td>4</td>\n",
       "      <td>10</td>\n",
       "    </tr>\n",
       "  </tbody>\n",
       "</table>\n",
       "</div>"
      ],
      "text/plain": [
       "             Artist Name                             Track Name  Popularity  \\\n",
       "0             Bruno Mars  That's What I Like (feat. Gucci Mane)        60.0   \n",
       "1                 Boston                           Hitch a Ride        54.0   \n",
       "2          The Raincoats                     No Side to Fall In        35.0   \n",
       "3                   Deno             Lingo (feat. J.I & Chunkz)        66.0   \n",
       "4  Red Hot Chili Peppers      Nobody Weird Like Me - Remastered        53.0   \n",
       "\n",
       "   danceability  energy   key  loudness  mode  speechiness  acousticness  \\\n",
       "0         0.854   0.564   1.0    -4.964     1       0.0485      0.017100   \n",
       "1         0.382   0.814   3.0    -7.230     1       0.0406      0.001100   \n",
       "2         0.434   0.614   6.0    -8.334     1       0.0525      0.486000   \n",
       "3         0.853   0.597  10.0    -6.528     0       0.0555      0.021200   \n",
       "4         0.167   0.975   2.0    -4.279     1       0.2160      0.000169   \n",
       "\n",
       "   instrumentalness  liveness  valence    tempo  duration_in min/ms  \\\n",
       "0               NaN    0.0849   0.8990  134.071            234596.0   \n",
       "1          0.004010    0.1010   0.5690  116.454            251733.0   \n",
       "2          0.000196    0.3940   0.7870  147.681            109667.0   \n",
       "3               NaN    0.1220   0.5690  107.033            173968.0   \n",
       "4          0.016100    0.1720   0.0918  199.060            229960.0   \n",
       "\n",
       "   time_signature  Class  \n",
       "0               4      5  \n",
       "1               4     10  \n",
       "2               4      6  \n",
       "3               4      5  \n",
       "4               4     10  "
      ]
     },
     "execution_count": 10,
     "metadata": {},
     "output_type": "execute_result"
    }
   ],
   "source": [
    "data = pd.read_csv(\"train.csv\")\n",
    "data.head()"
   ]
  },
  {
   "cell_type": "code",
   "execution_count": 11,
   "id": "af7679f2",
   "metadata": {},
   "outputs": [
    {
     "name": "stdout",
     "output_type": "stream",
     "text": [
      "<class 'pandas.core.frame.DataFrame'>\n",
      "RangeIndex: 17996 entries, 0 to 17995\n",
      "Data columns (total 17 columns):\n",
      " #   Column              Non-Null Count  Dtype  \n",
      "---  ------              --------------  -----  \n",
      " 0   Artist Name         17996 non-null  object \n",
      " 1   Track Name          17996 non-null  object \n",
      " 2   Popularity          17568 non-null  float64\n",
      " 3   danceability        17996 non-null  float64\n",
      " 4   energy              17996 non-null  float64\n",
      " 5   key                 15982 non-null  float64\n",
      " 6   loudness            17996 non-null  float64\n",
      " 7   mode                17996 non-null  int64  \n",
      " 8   speechiness         17996 non-null  float64\n",
      " 9   acousticness        17996 non-null  float64\n",
      " 10  instrumentalness    13619 non-null  float64\n",
      " 11  liveness            17996 non-null  float64\n",
      " 12  valence             17996 non-null  float64\n",
      " 13  tempo               17996 non-null  float64\n",
      " 14  duration_in min/ms  17996 non-null  float64\n",
      " 15  time_signature      17996 non-null  int64  \n",
      " 16  Class               17996 non-null  int64  \n",
      "dtypes: float64(12), int64(3), object(2)\n",
      "memory usage: 2.3+ MB\n"
     ]
    }
   ],
   "source": [
    "data.info()"
   ]
  },
  {
   "cell_type": "code",
   "execution_count": 12,
   "id": "d19b38c0-2bbd-476d-8ec8-c244fb8b2a78",
   "metadata": {},
   "outputs": [
    {
     "data": {
      "text/plain": [
       "Artist Name              0\n",
       "Track Name               0\n",
       "Popularity             428\n",
       "danceability             0\n",
       "energy                   0\n",
       "key                   2014\n",
       "loudness                 0\n",
       "mode                     0\n",
       "speechiness              0\n",
       "acousticness             0\n",
       "instrumentalness      4377\n",
       "liveness                 0\n",
       "valence                  0\n",
       "tempo                    0\n",
       "duration_in min/ms       0\n",
       "time_signature           0\n",
       "Class                    0\n",
       "dtype: int64"
      ]
     },
     "execution_count": 12,
     "metadata": {},
     "output_type": "execute_result"
    }
   ],
   "source": [
    "data.isna().sum()"
   ]
  },
  {
   "cell_type": "code",
   "execution_count": 13,
   "id": "d4005ab1",
   "metadata": {},
   "outputs": [
    {
     "data": {
      "text/html": [
       "<div>\n",
       "<style scoped>\n",
       "    .dataframe tbody tr th:only-of-type {\n",
       "        vertical-align: middle;\n",
       "    }\n",
       "\n",
       "    .dataframe tbody tr th {\n",
       "        vertical-align: top;\n",
       "    }\n",
       "\n",
       "    .dataframe thead th {\n",
       "        text-align: right;\n",
       "    }\n",
       "</style>\n",
       "<table border=\"1\" class=\"dataframe\">\n",
       "  <thead>\n",
       "    <tr style=\"text-align: right;\">\n",
       "      <th></th>\n",
       "      <th>Popularity</th>\n",
       "      <th>danceability</th>\n",
       "      <th>energy</th>\n",
       "      <th>key</th>\n",
       "      <th>loudness</th>\n",
       "      <th>mode</th>\n",
       "      <th>speechiness</th>\n",
       "      <th>acousticness</th>\n",
       "      <th>instrumentalness</th>\n",
       "      <th>liveness</th>\n",
       "      <th>valence</th>\n",
       "      <th>tempo</th>\n",
       "      <th>duration_in min/ms</th>\n",
       "      <th>time_signature</th>\n",
       "      <th>Class</th>\n",
       "    </tr>\n",
       "  </thead>\n",
       "  <tbody>\n",
       "    <tr>\n",
       "      <th>count</th>\n",
       "      <td>17568.000000</td>\n",
       "      <td>17996.000000</td>\n",
       "      <td>17996.000000</td>\n",
       "      <td>15982.000000</td>\n",
       "      <td>17996.000000</td>\n",
       "      <td>17996.000000</td>\n",
       "      <td>17996.000000</td>\n",
       "      <td>17996.000000</td>\n",
       "      <td>13619.000000</td>\n",
       "      <td>17996.000000</td>\n",
       "      <td>17996.000000</td>\n",
       "      <td>17996.000000</td>\n",
       "      <td>1.799600e+04</td>\n",
       "      <td>17996.000000</td>\n",
       "      <td>17996.000000</td>\n",
       "    </tr>\n",
       "    <tr>\n",
       "      <th>mean</th>\n",
       "      <td>44.512124</td>\n",
       "      <td>0.543433</td>\n",
       "      <td>0.662777</td>\n",
       "      <td>5.952447</td>\n",
       "      <td>-7.910660</td>\n",
       "      <td>0.636753</td>\n",
       "      <td>0.079707</td>\n",
       "      <td>0.247082</td>\n",
       "      <td>0.177562</td>\n",
       "      <td>0.196170</td>\n",
       "      <td>0.486208</td>\n",
       "      <td>122.623294</td>\n",
       "      <td>2.007445e+05</td>\n",
       "      <td>3.924039</td>\n",
       "      <td>6.695821</td>\n",
       "    </tr>\n",
       "    <tr>\n",
       "      <th>std</th>\n",
       "      <td>17.426928</td>\n",
       "      <td>0.166268</td>\n",
       "      <td>0.235373</td>\n",
       "      <td>3.196854</td>\n",
       "      <td>4.049151</td>\n",
       "      <td>0.480949</td>\n",
       "      <td>0.083576</td>\n",
       "      <td>0.310632</td>\n",
       "      <td>0.304048</td>\n",
       "      <td>0.159212</td>\n",
       "      <td>0.240195</td>\n",
       "      <td>29.571527</td>\n",
       "      <td>1.119891e+05</td>\n",
       "      <td>0.361618</td>\n",
       "      <td>3.206073</td>\n",
       "    </tr>\n",
       "    <tr>\n",
       "      <th>min</th>\n",
       "      <td>1.000000</td>\n",
       "      <td>0.059600</td>\n",
       "      <td>0.000020</td>\n",
       "      <td>1.000000</td>\n",
       "      <td>-39.952000</td>\n",
       "      <td>0.000000</td>\n",
       "      <td>0.022500</td>\n",
       "      <td>0.000000</td>\n",
       "      <td>0.000001</td>\n",
       "      <td>0.011900</td>\n",
       "      <td>0.018300</td>\n",
       "      <td>30.557000</td>\n",
       "      <td>5.016500e-01</td>\n",
       "      <td>1.000000</td>\n",
       "      <td>0.000000</td>\n",
       "    </tr>\n",
       "    <tr>\n",
       "      <th>25%</th>\n",
       "      <td>33.000000</td>\n",
       "      <td>0.432000</td>\n",
       "      <td>0.509000</td>\n",
       "      <td>3.000000</td>\n",
       "      <td>-9.538000</td>\n",
       "      <td>0.000000</td>\n",
       "      <td>0.034800</td>\n",
       "      <td>0.004300</td>\n",
       "      <td>0.000089</td>\n",
       "      <td>0.097500</td>\n",
       "      <td>0.297000</td>\n",
       "      <td>99.620750</td>\n",
       "      <td>1.663370e+05</td>\n",
       "      <td>4.000000</td>\n",
       "      <td>5.000000</td>\n",
       "    </tr>\n",
       "    <tr>\n",
       "      <th>50%</th>\n",
       "      <td>44.000000</td>\n",
       "      <td>0.545000</td>\n",
       "      <td>0.700000</td>\n",
       "      <td>6.000000</td>\n",
       "      <td>-7.016000</td>\n",
       "      <td>1.000000</td>\n",
       "      <td>0.047400</td>\n",
       "      <td>0.081400</td>\n",
       "      <td>0.003910</td>\n",
       "      <td>0.129000</td>\n",
       "      <td>0.481000</td>\n",
       "      <td>120.065500</td>\n",
       "      <td>2.091600e+05</td>\n",
       "      <td>4.000000</td>\n",
       "      <td>8.000000</td>\n",
       "    </tr>\n",
       "    <tr>\n",
       "      <th>75%</th>\n",
       "      <td>56.000000</td>\n",
       "      <td>0.659000</td>\n",
       "      <td>0.860000</td>\n",
       "      <td>9.000000</td>\n",
       "      <td>-5.189000</td>\n",
       "      <td>1.000000</td>\n",
       "      <td>0.083000</td>\n",
       "      <td>0.434000</td>\n",
       "      <td>0.200000</td>\n",
       "      <td>0.258000</td>\n",
       "      <td>0.672000</td>\n",
       "      <td>141.969250</td>\n",
       "      <td>2.524900e+05</td>\n",
       "      <td>4.000000</td>\n",
       "      <td>10.000000</td>\n",
       "    </tr>\n",
       "    <tr>\n",
       "      <th>max</th>\n",
       "      <td>100.000000</td>\n",
       "      <td>0.989000</td>\n",
       "      <td>1.000000</td>\n",
       "      <td>11.000000</td>\n",
       "      <td>1.355000</td>\n",
       "      <td>1.000000</td>\n",
       "      <td>0.955000</td>\n",
       "      <td>0.996000</td>\n",
       "      <td>0.996000</td>\n",
       "      <td>1.000000</td>\n",
       "      <td>0.986000</td>\n",
       "      <td>217.416000</td>\n",
       "      <td>1.477187e+06</td>\n",
       "      <td>5.000000</td>\n",
       "      <td>10.000000</td>\n",
       "    </tr>\n",
       "  </tbody>\n",
       "</table>\n",
       "</div>"
      ],
      "text/plain": [
       "         Popularity  danceability        energy           key      loudness  \\\n",
       "count  17568.000000  17996.000000  17996.000000  15982.000000  17996.000000   \n",
       "mean      44.512124      0.543433      0.662777      5.952447     -7.910660   \n",
       "std       17.426928      0.166268      0.235373      3.196854      4.049151   \n",
       "min        1.000000      0.059600      0.000020      1.000000    -39.952000   \n",
       "25%       33.000000      0.432000      0.509000      3.000000     -9.538000   \n",
       "50%       44.000000      0.545000      0.700000      6.000000     -7.016000   \n",
       "75%       56.000000      0.659000      0.860000      9.000000     -5.189000   \n",
       "max      100.000000      0.989000      1.000000     11.000000      1.355000   \n",
       "\n",
       "               mode   speechiness  acousticness  instrumentalness  \\\n",
       "count  17996.000000  17996.000000  17996.000000      13619.000000   \n",
       "mean       0.636753      0.079707      0.247082          0.177562   \n",
       "std        0.480949      0.083576      0.310632          0.304048   \n",
       "min        0.000000      0.022500      0.000000          0.000001   \n",
       "25%        0.000000      0.034800      0.004300          0.000089   \n",
       "50%        1.000000      0.047400      0.081400          0.003910   \n",
       "75%        1.000000      0.083000      0.434000          0.200000   \n",
       "max        1.000000      0.955000      0.996000          0.996000   \n",
       "\n",
       "           liveness       valence         tempo  duration_in min/ms  \\\n",
       "count  17996.000000  17996.000000  17996.000000        1.799600e+04   \n",
       "mean       0.196170      0.486208    122.623294        2.007445e+05   \n",
       "std        0.159212      0.240195     29.571527        1.119891e+05   \n",
       "min        0.011900      0.018300     30.557000        5.016500e-01   \n",
       "25%        0.097500      0.297000     99.620750        1.663370e+05   \n",
       "50%        0.129000      0.481000    120.065500        2.091600e+05   \n",
       "75%        0.258000      0.672000    141.969250        2.524900e+05   \n",
       "max        1.000000      0.986000    217.416000        1.477187e+06   \n",
       "\n",
       "       time_signature         Class  \n",
       "count    17996.000000  17996.000000  \n",
       "mean         3.924039      6.695821  \n",
       "std          0.361618      3.206073  \n",
       "min          1.000000      0.000000  \n",
       "25%          4.000000      5.000000  \n",
       "50%          4.000000      8.000000  \n",
       "75%          4.000000     10.000000  \n",
       "max          5.000000     10.000000  "
      ]
     },
     "execution_count": 13,
     "metadata": {},
     "output_type": "execute_result"
    }
   ],
   "source": [
    "data.describe()"
   ]
  },
  {
   "cell_type": "code",
   "execution_count": 14,
   "id": "f5376a7a",
   "metadata": {},
   "outputs": [],
   "source": [
    "import matplotlib.pyplot as plt\n",
    "%matplotlib inline"
   ]
  },
  {
   "cell_type": "code",
   "execution_count": 15,
   "id": "9f306b6b",
   "metadata": {},
   "outputs": [
    {
     "data": {
      "image/png": "[encoded data removed]",
      "text/plain": [
       "<Figure size 432x288 with 1 Axes>"
      ]
     },
     "metadata": {
      "needs_background": "light"
     },
     "output_type": "display_data"
    }
   ],
   "source": [
    "data['Class'].hist()\n",
    "plt.xlabel('Class')\n",
    "plt.ylabel('Frequency')\n",
    "plt.show()"
   ]
  },
  {
   "cell_type": "code",
   "execution_count": 16,
   "id": "031c19d8",
   "metadata": {},
   "outputs": [],
   "source": [
    "# я бы не сказал что искомый признак распределён нормально "
   ]
  },
  {
   "cell_type": "code",
   "execution_count": 17,
   "id": "02c51c4f",
   "metadata": {},
   "outputs": [
    {
     "data": {
      "text/html": [
       "<div>\n",
       "<style scoped>\n",
       "    .dataframe tbody tr th:only-of-type {\n",
       "        vertical-align: middle;\n",
       "    }\n",
       "\n",
       "    .dataframe tbody tr th {\n",
       "        vertical-align: top;\n",
       "    }\n",
       "\n",
       "    .dataframe thead th {\n",
       "        text-align: right;\n",
       "    }\n",
       "</style>\n",
       "<table border=\"1\" class=\"dataframe\">\n",
       "  <thead>\n",
       "    <tr style=\"text-align: right;\">\n",
       "      <th></th>\n",
       "      <th>danceability</th>\n",
       "      <th>energy</th>\n",
       "      <th>loudness</th>\n",
       "      <th>mode</th>\n",
       "      <th>speechiness</th>\n",
       "      <th>acousticness</th>\n",
       "      <th>liveness</th>\n",
       "      <th>valence</th>\n",
       "      <th>tempo</th>\n",
       "      <th>duration_in min/ms</th>\n",
       "      <th>time_signature</th>\n",
       "    </tr>\n",
       "  </thead>\n",
       "  <tbody>\n",
       "    <tr>\n",
       "      <th>0</th>\n",
       "      <td>0.854</td>\n",
       "      <td>0.564</td>\n",
       "      <td>-4.964</td>\n",
       "      <td>1</td>\n",
       "      <td>0.0485</td>\n",
       "      <td>0.017100</td>\n",
       "      <td>0.0849</td>\n",
       "      <td>0.8990</td>\n",
       "      <td>134.071</td>\n",
       "      <td>234596.0</td>\n",
       "      <td>4</td>\n",
       "    </tr>\n",
       "    <tr>\n",
       "      <th>1</th>\n",
       "      <td>0.382</td>\n",
       "      <td>0.814</td>\n",
       "      <td>-7.230</td>\n",
       "      <td>1</td>\n",
       "      <td>0.0406</td>\n",
       "      <td>0.001100</td>\n",
       "      <td>0.1010</td>\n",
       "      <td>0.5690</td>\n",
       "      <td>116.454</td>\n",
       "      <td>251733.0</td>\n",
       "      <td>4</td>\n",
       "    </tr>\n",
       "    <tr>\n",
       "      <th>2</th>\n",
       "      <td>0.434</td>\n",
       "      <td>0.614</td>\n",
       "      <td>-8.334</td>\n",
       "      <td>1</td>\n",
       "      <td>0.0525</td>\n",
       "      <td>0.486000</td>\n",
       "      <td>0.3940</td>\n",
       "      <td>0.7870</td>\n",
       "      <td>147.681</td>\n",
       "      <td>109667.0</td>\n",
       "      <td>4</td>\n",
       "    </tr>\n",
       "    <tr>\n",
       "      <th>3</th>\n",
       "      <td>0.853</td>\n",
       "      <td>0.597</td>\n",
       "      <td>-6.528</td>\n",
       "      <td>0</td>\n",
       "      <td>0.0555</td>\n",
       "      <td>0.021200</td>\n",
       "      <td>0.1220</td>\n",
       "      <td>0.5690</td>\n",
       "      <td>107.033</td>\n",
       "      <td>173968.0</td>\n",
       "      <td>4</td>\n",
       "    </tr>\n",
       "    <tr>\n",
       "      <th>4</th>\n",
       "      <td>0.167</td>\n",
       "      <td>0.975</td>\n",
       "      <td>-4.279</td>\n",
       "      <td>1</td>\n",
       "      <td>0.2160</td>\n",
       "      <td>0.000169</td>\n",
       "      <td>0.1720</td>\n",
       "      <td>0.0918</td>\n",
       "      <td>199.060</td>\n",
       "      <td>229960.0</td>\n",
       "      <td>4</td>\n",
       "    </tr>\n",
       "  </tbody>\n",
       "</table>\n",
       "</div>"
      ],
      "text/plain": [
       "   danceability  energy  loudness  mode  speechiness  acousticness  liveness  \\\n",
       "0         0.854   0.564    -4.964     1       0.0485      0.017100    0.0849   \n",
       "1         0.382   0.814    -7.230     1       0.0406      0.001100    0.1010   \n",
       "2         0.434   0.614    -8.334     1       0.0525      0.486000    0.3940   \n",
       "3         0.853   0.597    -6.528     0       0.0555      0.021200    0.1220   \n",
       "4         0.167   0.975    -4.279     1       0.2160      0.000169    0.1720   \n",
       "\n",
       "   valence    tempo  duration_in min/ms  time_signature  \n",
       "0   0.8990  134.071            234596.0               4  \n",
       "1   0.5690  116.454            251733.0               4  \n",
       "2   0.7870  147.681            109667.0               4  \n",
       "3   0.5690  107.033            173968.0               4  \n",
       "4   0.0918  199.060            229960.0               4  "
      ]
     },
     "execution_count": 17,
     "metadata": {},
     "output_type": "execute_result"
    }
   ],
   "source": [
    "X = data.copy().drop(['Artist Name', 'Track Name', 'Class', 'Popularity', 'key', 'instrumentalness'], axis = 1)\n",
    "y = data.Class\n",
    "X.head()"
   ]
  },
  {
   "cell_type": "code",
   "execution_count": 18,
   "id": "7fd05620",
   "metadata": {},
   "outputs": [],
   "source": [
    "X_train,X_test, y_train, y_test = train_test_split(X,y, stratify=y)"
   ]
  },
  {
   "cell_type": "markdown",
   "id": "d7dfab66-247d-423e-a4f9-5891ce11627b",
   "metadata": {},
   "source": [
    "### Задание 2. Обучение дерева решений (10 баллов)\n",
    "\n",
    "Предобработайте признаки так, чтобы их можно было подать в модель дерева решений и обучите ее, постарайтесь подобрать оптимальные гиперпараметры, которые вам известны. Постарайтесь также обосновать выбор метрики в данном случае. При подборе гиперпараметров может помочь `GridSearchCV` [ссылка](https://scikit-learn.org/stable/modules/generated/sklearn.model_selection.GridSearchCV.html)."
   ]
  },
  {
   "cell_type": "code",
   "execution_count": 19,
   "id": "0b2c8c85",
   "metadata": {},
   "outputs": [],
   "source": [
    "from sklearn.model_selection import GridSearchCV"
   ]
  },
  {
   "cell_type": "code",
   "execution_count": 20,
   "id": "f69d6a02-fac9-48ec-9ae8-1613f27283d5",
   "metadata": {},
   "outputs": [],
   "source": [
    "clf = DecisionTreeClassifier()\n",
    "\n",
    "parameters = {'criterion' : ['gini', 'entropy'], 'max_depth' : range(1, 10)}\n",
    "\n",
    "grid_search = GridSearchCV(clf, parameters, cv = 10)"
   ]
  },
  {
   "cell_type": "code",
   "execution_count": 21,
   "id": "bbbd707d",
   "metadata": {},
   "outputs": [],
   "source": [
    "# я пробовал ещё добавлять гиперпараметры min_samples_leaf и min_samples_split\n",
    "# но чёт какая-то лажа вышла, мне не оч понравилось "
   ]
  },
  {
   "cell_type": "code",
   "execution_count": 22,
   "id": "c1cc8e7a",
   "metadata": {},
   "outputs": [
    {
     "data": {
      "text/plain": [
       "GridSearchCV(cv=10, estimator=DecisionTreeClassifier(),\n",
       "             param_grid={'criterion': ['gini', 'entropy'],\n",
       "                         'max_depth': range(1, 10)})"
      ]
     },
     "execution_count": 22,
     "metadata": {},
     "output_type": "execute_result"
    }
   ],
   "source": [
    "grid_search.fit(X_train, y_train)\n"
   ]
  },
  {
   "cell_type": "code",
   "execution_count": 23,
   "id": "1d35e3f1",
   "metadata": {},
   "outputs": [],
   "source": [
    "b_clf = grid_search.best_estimator_"
   ]
  },
  {
   "cell_type": "code",
   "execution_count": 24,
   "id": "c99f8934",
   "metadata": {},
   "outputs": [
    {
     "data": {
      "text/plain": [
       "0.4589908868637475"
      ]
     },
     "execution_count": 24,
     "metadata": {},
     "output_type": "execute_result"
    }
   ],
   "source": [
    "b_clf.score(X_test, y_test)"
   ]
  },
  {
   "cell_type": "code",
   "execution_count": 25,
   "id": "06ca41b8",
   "metadata": {},
   "outputs": [
    {
     "data": {
      "text/plain": [
       "0.4157994537136841"
      ]
     },
     "execution_count": 25,
     "metadata": {},
     "output_type": "execute_result"
    }
   ],
   "source": [
    "f1_score(y_test, b_clf.predict(X_test), average='weighted')"
   ]
  },
  {
   "cell_type": "markdown",
   "id": "11c54184-da20-4f53-9d5f-575e2cad3a4d",
   "metadata": {},
   "source": [
    "### Задание 3. Другие модели (5 баллов за модель)\n",
    "\n",
    "Проделайте операции из **Задания 2** с другими известными вам классификаторами. Стало ли лучше?"
   ]
  },
  {
   "cell_type": "code",
   "execution_count": 26,
   "id": "eb381e31-ecb5-47aa-8eb0-1fed6e248c61",
   "metadata": {},
   "outputs": [],
   "source": [
    "from sklearn.preprocessing import StandardScaler\n",
    "from sklearn.linear_model import LogisticRegression\n"
   ]
  },
  {
   "cell_type": "code",
   "execution_count": 27,
   "id": "6bb2c04e",
   "metadata": {},
   "outputs": [],
   "source": [
    "scaler = StandardScaler()\n",
    "\n",
    "X_train_scal = scaler.fit_transform(X_train)\n",
    "X_test_scal = scaler.transform(X_test)"
   ]
  },
  {
   "cell_type": "code",
   "execution_count": 28,
   "id": "4728bc27",
   "metadata": {},
   "outputs": [
    {
     "data": {
      "text/plain": [
       "array([[ 1.42350073, -0.05503175,  0.73290381, ...,  1.26497277,\n",
       "        -0.46730065,  0.20896024],\n",
       "       [ 0.11731516,  1.19724654,  0.07345285, ..., -0.54296015,\n",
       "         0.10604973,  0.20896024],\n",
       "       [-1.95933932,  0.74033419,  0.61266834, ...,  1.7320528 ,\n",
       "         0.34443827,  0.20896024],\n",
       "       ...,\n",
       "       [-0.76150094, -0.38925467,  0.09164799, ...,  0.59033916,\n",
       "         1.48324602,  0.20896024],\n",
       "       [ 0.26177808, -1.75153037, -1.34281768, ..., -0.49953678,\n",
       "        -1.79316414,  0.20896024],\n",
       "       [-0.40636293,  1.13378649,  0.3335942 , ..., -0.08784266,\n",
       "         1.0710059 ,  0.20896024]])"
      ]
     },
     "execution_count": 28,
     "metadata": {},
     "output_type": "execute_result"
    }
   ],
   "source": [
    "X_train_scal"
   ]
  },
  {
   "cell_type": "code",
   "execution_count": 29,
   "id": "db13b647",
   "metadata": {},
   "outputs": [],
   "source": [
    "log = LogisticRegression(max_iter=1000, solver='liblinear')"
   ]
  },
  {
   "cell_type": "code",
   "execution_count": 30,
   "id": "d81e75b0",
   "metadata": {},
   "outputs": [],
   "source": [
    "parameters = {'penalty': ['l1', 'l2']}\n",
    "grid_search = GridSearchCV(log, parameters, cv = 10)"
   ]
  },
  {
   "cell_type": "code",
   "execution_count": 31,
   "id": "a157d5c9",
   "metadata": {},
   "outputs": [
    {
     "data": {
      "text/plain": [
       "GridSearchCV(cv=10,\n",
       "             estimator=LogisticRegression(max_iter=1000, solver='liblinear'),\n",
       "             param_grid={'penalty': ['l1', 'l2']})"
      ]
     },
     "execution_count": 31,
     "metadata": {},
     "output_type": "execute_result"
    }
   ],
   "source": [
    "grid_search.fit(X_train_scal, y_train)"
   ]
  },
  {
   "cell_type": "code",
   "execution_count": 32,
   "id": "76e4e8a7",
   "metadata": {},
   "outputs": [
    {
     "data": {
      "text/plain": [
       "LogisticRegression(max_iter=1000, penalty='l1', solver='liblinear')"
      ]
     },
     "execution_count": 32,
     "metadata": {},
     "output_type": "execute_result"
    }
   ],
   "source": [
    "grid_search.best_estimator_"
   ]
  },
  {
   "cell_type": "code",
   "execution_count": 33,
   "id": "70ccaf24",
   "metadata": {},
   "outputs": [
    {
     "data": {
      "text/plain": [
       "0.46765947988441875"
      ]
     },
     "execution_count": 33,
     "metadata": {},
     "output_type": "execute_result"
    }
   ],
   "source": [
    "log_clf = grid_search.best_estimator_\n",
    "log_clf.score(X_test_scal, y_test)"
   ]
  },
  {
   "cell_type": "code",
   "execution_count": 34,
   "id": "be0de7e5",
   "metadata": {},
   "outputs": [
    {
     "data": {
      "text/plain": [
       "0.41817596786898076"
      ]
     },
     "execution_count": 34,
     "metadata": {},
     "output_type": "execute_result"
    }
   ],
   "source": [
    "f1_score(y_test, log_clf.predict(X_test_scal), average='weighted')"
   ]
  },
  {
   "cell_type": "code",
   "execution_count": 35,
   "id": "8509d211",
   "metadata": {},
   "outputs": [],
   "source": [
    "from sklearn.neighbors import KNeighborsClassifier\n",
    "\n",
    "knn = KNeighborsClassifier()"
   ]
  },
  {
   "cell_type": "code",
   "execution_count": 36,
   "id": "03fe5262",
   "metadata": {},
   "outputs": [],
   "source": [
    "parameters = {'n_neighbors': range(1,20), 'metric': ['euclidean', 'manhattan', 'minkowski'] }\n",
    "\n",
    "grid_search = GridSearchCV(knn, parameters, cv = 10)"
   ]
  },
  {
   "cell_type": "code",
   "execution_count": 37,
   "id": "d8ca823b",
   "metadata": {},
   "outputs": [
    {
     "data": {
      "text/plain": [
       "GridSearchCV(cv=10, estimator=KNeighborsClassifier(),\n",
       "             param_grid={'metric': ['euclidean', 'manhattan', 'minkowski'],\n",
       "                         'n_neighbors': range(1, 20)})"
      ]
     },
     "execution_count": 37,
     "metadata": {},
     "output_type": "execute_result"
    }
   ],
   "source": [
    "grid_search.fit(X_train_scal, y_train)"
   ]
  },
  {
   "cell_type": "code",
   "execution_count": 38,
   "id": "2709da5e",
   "metadata": {},
   "outputs": [
    {
     "data": {
      "text/plain": [
       "{'metric': 'manhattan', 'n_neighbors': 18}"
      ]
     },
     "execution_count": 38,
     "metadata": {},
     "output_type": "execute_result"
    }
   ],
   "source": [
    "grid_search.best_params_"
   ]
  },
  {
   "cell_type": "code",
   "execution_count": 39,
   "id": "180a5dd2",
   "metadata": {},
   "outputs": [
    {
     "data": {
      "text/plain": [
       "KNeighborsClassifier(metric='manhattan', n_neighbors=18)"
      ]
     },
     "execution_count": 39,
     "metadata": {},
     "output_type": "execute_result"
    }
   ],
   "source": [
    "grid_search.best_estimator_"
   ]
  },
  {
   "cell_type": "code",
   "execution_count": 40,
   "id": "25e14bad",
   "metadata": {},
   "outputs": [
    {
     "data": {
      "text/plain": [
       "0.4718826405867971"
      ]
     },
     "execution_count": 40,
     "metadata": {},
     "output_type": "execute_result"
    }
   ],
   "source": [
    "knn_clf = grid_search.best_estimator_\n",
    "knn_clf.score(X_test_scal, y_test)"
   ]
  },
  {
   "cell_type": "code",
   "execution_count": 41,
   "id": "59da1e53",
   "metadata": {},
   "outputs": [
    {
     "data": {
      "text/plain": [
       "0.4449897341169034"
      ]
     },
     "execution_count": 41,
     "metadata": {},
     "output_type": "execute_result"
    }
   ],
   "source": [
    "f1_score(y_test, knn_clf.predict(X_test_scal), average='weighted')"
   ]
  },
  {
   "cell_type": "markdown",
   "id": "a4d857d4-15fc-456d-adb3-d0ebd1690cfa",
   "metadata": {},
   "source": [
    "### Задание 4. (3 балла)\n",
    "\n",
    "Раз уж вы работаете в командах, то у вас есть шанс обсудить любимые фильмы. Напишите сюда 3 фильма, которые хотели бы посмотреть вместе:\n",
    "\n",
    "1. Падшие ангелы (1995)\n",
    "\n",
    "2. Касаясь пустоты (2003)\n",
    "\n",
    "3. Душа (2022)"
   ]
  },
  {
   "cell_type": "code",
   "execution_count": null,
   "id": "9ab7a7eb-eae9-4b07-bcc1-d5deca2aba00",
   "metadata": {},
   "outputs": [],
   "source": []
  }
 ],
 "metadata": {
  "kernelspec": {
   "display_name": "Python 3 (ipykernel)",
   "language": "python",
   "name": "python3"
  },
  "language_info": {
   "codemirror_mode": {
    "name": "ipython",
    "version": 3
   },
   "file_extension": ".py",
   "mimetype": "text/x-python",
   "name": "python",
   "nbconvert_exporter": "python",
   "pygments_lexer": "ipython3",
   "version": "3.9.5"
  }
 },
 "nbformat": 4,
 "nbformat_minor": 5
}
